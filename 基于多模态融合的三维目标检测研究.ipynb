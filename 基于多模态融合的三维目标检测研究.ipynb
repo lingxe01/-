{
 "cells": [
  {
   "cell_type": "code",
   "execution_count": 10,
   "id": "5c25900af3c42f74",
   "metadata": {
    "ExecuteTime": {
     "end_time": "2023-11-20T13:58:34.462748300Z",
     "start_time": "2023-11-20T13:58:34.460739Z"
    },
    "collapsed": false
   },
   "outputs": [],
   "source": [
    "import torch.nn as nn\n",
    "import torch\n",
    "import torch.nn.functional as F"
   ]
  },
  {
   "cell_type": "markdown",
   "id": "944c89ab8e40e422",
   "metadata": {
    "collapsed": false
   },
   "source": [
    "![Res_tem](./img/res-tem.png)"
   ]
  },
  {
   "cell_type": "code",
   "execution_count": 11,
   "id": "ed3f61201b376321",
   "metadata": {
    "ExecuteTime": {
     "end_time": "2023-11-20T13:58:34.477489700Z",
     "start_time": "2023-11-20T13:58:34.464801500Z"
    },
    "collapsed": false
   },
   "outputs": [],
   "source": [
    "class Res_Stem(nn.Module):\n",
    "    def __init__(self):\n",
    "        super(Res_Stem,self).__init__()\n",
    "        self.model = nn.Sequential(\n",
    "            nn.Conv2d(in_channels=3,out_channels=64,kernel_size=7,stride=1,padding=3),\n",
    "            nn.BatchNorm2d(64),\n",
    "            nn.ReLU(),\n",
    "            nn.MaxPool2d(kernel_size=3,stride=4,padding=1)\n",
    "        )\n",
    "    def forward(self,x):\n",
    "        return self.model(x)\n",
    "        "
   ]
  },
  {
   "cell_type": "code",
   "execution_count": 12,
   "id": "54c7ed6a69e0e84e",
   "metadata": {
    "ExecuteTime": {
     "end_time": "2023-11-20T13:58:34.495377400Z",
     "start_time": "2023-11-20T13:58:34.477489700Z"
    },
    "collapsed": false
   },
   "outputs": [],
   "source": [
    "model = Res_Stem()"
   ]
  },
  {
   "cell_type": "code",
   "execution_count": 13,
   "id": "39e109245f552233",
   "metadata": {
    "ExecuteTime": {
     "end_time": "2023-11-20T13:58:34.495377400Z",
     "start_time": "2023-11-20T13:58:34.485224400Z"
    },
    "collapsed": false
   },
   "outputs": [],
   "source": [
    "inputs = torch.randn(1,3,512,512)"
   ]
  },
  {
   "cell_type": "code",
   "execution_count": 14,
   "id": "144220098153076b",
   "metadata": {
    "ExecuteTime": {
     "end_time": "2023-11-20T13:58:34.499725400Z",
     "start_time": "2023-11-20T13:58:34.495377400Z"
    },
    "collapsed": false
   },
   "outputs": [
    {
     "data": {
      "text/plain": [
       "torch.Size([1, 3, 512, 512])"
      ]
     },
     "execution_count": 14,
     "metadata": {},
     "output_type": "execute_result"
    }
   ],
   "source": [
    "inputs.shape"
   ]
  },
  {
   "cell_type": "code",
   "execution_count": 15,
   "id": "724a6742bcc07455",
   "metadata": {
    "ExecuteTime": {
     "end_time": "2023-11-20T13:58:34.577303600Z",
     "start_time": "2023-11-20T13:58:34.500720900Z"
    },
    "collapsed": false
   },
   "outputs": [],
   "source": [
    "out = model(inputs)"
   ]
  },
  {
   "cell_type": "code",
   "execution_count": 16,
   "id": "f8896e60b39b0e9e",
   "metadata": {
    "ExecuteTime": {
     "end_time": "2023-11-20T13:58:34.585767900Z",
     "start_time": "2023-11-20T13:58:34.579302900Z"
    },
    "collapsed": false
   },
   "outputs": [
    {
     "data": {
      "text/plain": [
       "torch.Size([1, 64, 128, 128])"
      ]
     },
     "execution_count": 16,
     "metadata": {},
     "output_type": "execute_result"
    }
   ],
   "source": [
    "out.shape"
   ]
  },
  {
   "cell_type": "markdown",
   "id": "e6abf9fd256c23a4",
   "metadata": {
    "collapsed": false
   },
   "source": [
    "![Res-50](./img/Res-50.png)"
   ]
  },
  ```{
   "cell_type": "code",
   "execution_count": 17,
   "id": "8c0945f21d2bb101",
   "metadata": {
    "ExecuteTime": {
     "end_time": "2023-11-20T13:58:34.641935300Z",
     "start_time": "2023-11-20T13:58:34.588770700Z"
    },
    "collapsed": false
   },
   "outputs": [
    {
     "name": "stdout",
     "output_type": "stream",
     "text": [
      "Output tensor shape: torch.Size([1, 256, 64, 64])\n"
     ]
    }
   ],
   "source": [
    "import torch\n",
    "import torch.nn as nn\n",
    "\n",
    "class ResidualBlock(nn.Module):\n",
    "    def __init__(self, in_channels, out_channels, stride=1):\n",
    "        super(ResidualBlock, self).__init__()\n",
    "\n",
    "        # 第一层 1x1 卷积\n",
    "        self.conv1 = nn.Conv2d(in_channels, out_channels, kernel_size=1, stride=stride, padding=0, bias=False)\n",
    "        self.bn1 = nn.BatchNorm2d(out_channels)\n",
    "\n",
    "        # 第二层 3x3 卷积\n",
    "        self.conv2 = nn.Conv2d(out_channels, out_channels, kernel_size=3, stride=1, padding=1, bias=False)\n",
    "        self.bn2 = nn.BatchNorm2d(out_channels)\n",
    "\n",
    "        # 第三层 1x1 卷积\n",
    "        self.conv3 = nn.Conv2d(out_channels, out_channels * 4, kernel_size=1, stride=1, padding=0, bias=False)\n",
    "        self.bn3 = nn.BatchNorm2d(out_channels * 4)\n",
    "\n",
    "        # 对输入进行适应性调整，使其与输出的通道数和尺寸相匹配\n",
    "        self.shortcut = nn.Sequential()\n",
    "        if stride != 1 or in_channels != out_channels:\n",
    "            self.shortcut = nn.Sequential(\n",
    "                nn.Conv2d(in_channels, out_channels * 4, kernel_size=1, stride=stride, padding=0, bias=False),\n",
    "                nn.BatchNorm2d(out_channels * 4)\n",
    "            )\n",
    "\n",
    "    def forward(self, x):\n",
    "        out = self.conv1(x)\n",
    "        out = self.bn1(out)\n",
    "        out = nn.functional.relu(out)\n",
    "\n",
    "        out = self.conv2(out)\n",
    "        out = self.bn2(out)\n",
    "        out = nn.functional.relu(out)\n",
    "\n",
    "        out = self.conv3(out)\n",
    "        out = self.bn3(out)\n",
    "\n",
    "        # 添加残差\n",
    "        out += self.shortcut(x)\n",
    "        out = nn.functional.relu(out)\n",
    "        \n",
    "\n",
    "        return out\n",
    "\n",
    "# 测试残差结构  # 示例输入，通道数为64，尺寸为128x128\n",
    "residual_block = ResidualBlock(64, 64, stride=2)\n",
    "out1 = residual_block(out)\n",
    "print(\"Output tensor shape:\", out1.shape)\n"
   ]
  },
  {
   "cell_type": "code",
   "execution_count": 18,
   "id": "e7cb4a267e0fad4b",
   "metadata": {
    "ExecuteTime": {
     "end_time": "2023-11-20T13:58:34.641935300Z",
     "start_time": "2023-11-20T13:58:34.610113700Z"
    },
    "collapsed": false
   },
   "outputs": [
    {
     "name": "stdout",
     "output_type": "stream",
     "text": [
      "torch.Size([1, 256, 32, 32])\n"
     ]
    }
   ],
   "source": [
    "out2 = F.max_pool2d(out1,kernel_size=2,stride=2,padding=0)\n",
    "print(out2.shape)"
   ]
  },
  {
   "cell_type": "code",
   "execution_count": 20,
   "id": "5c3eb1a07506077f",
   "metadata": {
    "ExecuteTime": {
     "end_time": "2023-11-20T14:00:04.151409300Z",
     "start_time": "2023-11-20T14:00:04.135992300Z"
    },
    "collapsed": false
   },
   "outputs": [
    {
     "name": "stdout",
     "output_type": "stream",
     "text": [
      "torch.Size([1, 512, 16, 16])\n"
     ]
    }
   ],
   "source": [
    "residual_block1 = ResidualBlock(256, 128, stride=2)\n",
    "out3 = residual_block1(out2)\n",
    "print(out3.shape)"
   ]
  },
  {
   "cell_type": "code",
   "execution_count": 21,
   "id": "fe5a3b729e51c9d4",
   "metadata": {
    "ExecuteTime": {
     "end_time": "2023-11-20T14:01:35.487394600Z",
     "start_time": "2023-11-20T14:01:35.481810200Z"
    },
    "collapsed": false
   },
   "outputs": [
    {
     "name": "stdout",
     "output_type": "stream",
     "text": [
      "torch.Size([1, 256, 16, 16])\n"
     ]
    }
   ],
   "source": [
    "conv1 = nn.Conv2d(512,256,1,1)\n",
    "out4 = conv1(out3)\n",
    "print(out4.shape)"
   ]
  }
 ],
 "metadata": {
  "kernelspec": {
   "display_name": "Python 3",
   "language": "python",
   "name": "python3"
  },
  "language_info": {
   "codemirror_mode": {
    "name": "ipython",
    "version": 2
   },
   "file_extension": ".py",
   "mimetype": "text/x-python",
   "name": "python",
   "nbconvert_exporter": "python",
   "pygments_lexer": "ipython2",
   "version": "2.7.6"
  }
 },
 "nbformat": 4,
 "nbformat_minor": 5
}
